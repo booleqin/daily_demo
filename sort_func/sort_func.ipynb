{
 "cells": [
  {
   "cell_type": "markdown",
   "metadata": {},
   "source": [
    "# 十大经典排序算法python实现"
   ]
  },
  {
   "cell_type": "markdown",
   "metadata": {},
   "source": [
    "## 性能比较\n",
    "\n",
    "|排序算法|时间复杂度（平均）|时间复杂度（最差）|时间复杂度（最好）|空间复杂度|稳定性|\n",
    "|:---:|:---:|:---:|:---:|:---:|:---:|\n",
    "|快速排序|O($nlog_{2}{n}$)|O($n^{2}$)|O($nlog_{2}{n}$)|O($nlog_{2}{n}$)|不稳定|\n",
    "|冒泡排序|O($n^{2}$)|O($n^{2}$)|O($n$)|O(1)|稳定|\n",
    "|选择排序|O($n^{2}$)|O($n^{2}$)|O($n^{2}$)|O(1)|不稳定|\n",
    "|归并排序|O($nlog_{2}{n}$)|O($nlog_{2}{n}$)|O($nlog_{2}{n}$)|O($n$)|稳定|\n",
    "|插入排序|O($n^{2}$)|O($n^{2}$)|O($n$)|O(1)|稳定|\n",
    "|希尔排序|O($n^{1.3}$)|O($n^{2}$)|O($n$)|O(1)|不稳定|\n",
    "|堆排序|O($nlog_{2}{n}$)|O($nlog_{2}{n}$)|O($nlog_{2}{n}$)|O(1)|不稳定|\n",
    "|桶排序|O($n + k$)|O($n^{2}$)|O($n$)|O($n + k$)|稳定|\n",
    "|计数排序|O($n + k$)|O($n + k$)|O($n + k$)|O($n + k$)|稳定|\n",
    "|基数排序|O($n * k$)|O($n * k$)|O($n * k$)|O($n + k$)|稳定|"
   ]
  },
  {
   "cell_type": "markdown",
   "metadata": {},
   "source": [
    "## 快速排序\n",
    "\n",
    "原理：对于任意一个需要排序的序列，首先选择序列中的人一个数为关键数据，然后将所有比它小的数都放左边，所有比它大的数都放右边，这就完成了一次快速排序，如此递归完成所有排序。\n"
   ]
  },
  {
   "cell_type": "code",
   "execution_count": 1,
   "metadata": {},
   "outputs": [],
   "source": [
    "def quick_sort(data):\n",
    "    \"\"\"\n",
    "    快速排序\n",
    "    \"\"\"\n",
    "    if len(data) <= 1:\n",
    "        return data\n",
    "    else:\n",
    "        base = data[0]\n",
    "        left, right = [], []\n",
    "        data.remove(base)\n",
    "        for num in data:\n",
    "            if num >= base:\n",
    "                right.append(num)\n",
    "            else:\n",
    "                left.append(num)\n",
    "        return quick_sort(left) + [base] + quick_sort(right)\n"
   ]
  },
  {
   "cell_type": "markdown",
   "metadata": {},
   "source": [
    "## 冒泡排序\n",
    "\n",
    "原理：遍历需要排序的序列元素，依次比较两个相邻的元素，如果他们的顺序错误就进行交换。重复遍历直到没有相邻元素需要交换，即该序列已经排序完成。"
   ]
  },
  {
   "cell_type": "code",
   "execution_count": 2,
   "metadata": {},
   "outputs": [],
   "source": [
    "def bubble_sort(data):\n",
    "    \"\"\"\n",
    "    冒泡排序\n",
    "    \"\"\"\n",
    "    if len(data) <= 1:\n",
    "        return data\n",
    "    for i in range(len(data) - 1):\n",
    "        for j in range(len(data) - i - 1):\n",
    "            if data[j] > data[j + 1]:\n",
    "                data[j], data[j + 1] = data[j + 1], data[j]\n",
    "    return data"
   ]
  },
  {
   "cell_type": "markdown",
   "metadata": {},
   "source": [
    "## 选择排序\n",
    "\n",
    "原理：一共需要遍历n-1次，没遍历一次选择出最小的元素，完成排序。"
   ]
  },
  {
   "cell_type": "code",
   "execution_count": 3,
   "metadata": {},
   "outputs": [],
   "source": [
    "def select_sort(data):\n",
    "    \"\"\"\n",
    "    选择排序\n",
    "    \"\"\"\n",
    "    if len(data) <= 1:\n",
    "        return data\n",
    "    for i in range(len(data) - 1):\n",
    "        min_index = i\n",
    "        for j in range(i + 1, len(data)):\n",
    "            if data[j] < data[min_index]:\n",
    "                min_index = j\n",
    "        data[i], data[min_index] = data[min_index], data[i]\n",
    "    return data"
   ]
  },
  {
   "cell_type": "markdown",
   "metadata": {},
   "source": [
    "## 归并排序\n",
    "\n",
    "原理：先使每个子序列有序，再使子序列段间有序。"
   ]
  },
  {
   "cell_type": "code",
   "execution_count": 4,
   "metadata": {},
   "outputs": [],
   "source": [
    "def merge_sort(data):\n",
    "    \"\"\"\n",
    "    归并排序\n",
    "    \"\"\"\n",
    "    def merge(left, right):\n",
    "        \"\"\"\n",
    "        归并过程\n",
    "        \"\"\"\n",
    "        result = []  # 保存归并后的结果\n",
    "        i = j = 0\n",
    "        while i < len(left) and j < len(right):\n",
    "            if left[i] <= right[j]:\n",
    "                result.append(left[i])\n",
    "                i += 1\n",
    "            else:\n",
    "                result.append(right[j])\n",
    "                j += 1\n",
    "        result = result + left[i:] + right[j:]\n",
    "        return result\n",
    "    \n",
    "    # 递归过程\n",
    "    if len(data) <= 1:\n",
    "        return data\n",
    "    mid = len(data) // 2\n",
    "    left = merge_sort(data[:mid])\n",
    "    right = merge_sort(data[mid:])\n",
    "    return merge(left, right)"
   ]
  },
  {
   "cell_type": "markdown",
   "metadata": {},
   "source": [
    "## 插入排序\n",
    "\n",
    "原理：通过构建有序序列，对未排序数据，在已排序序列中从后向前扫描，找到相应位置并插入"
   ]
  },
  {
   "cell_type": "code",
   "execution_count": 5,
   "metadata": {},
   "outputs": [],
   "source": [
    "def insert_sort(data):\n",
    "    \"\"\"\n",
    "    插入排序\n",
    "    \"\"\"\n",
    "    if len(data) <= 1:\n",
    "        return data\n",
    "    for i in range(1, len(data)):\n",
    "        for j in range(i, 0, -1):\n",
    "            if data[j] < data[j - 1]: \n",
    "                data[j], data[j - 1] = data[j - 1], data[j]\n",
    "            else:\n",
    "                break\n",
    "    return data"
   ]
  },
  {
   "cell_type": "markdown",
   "metadata": {},
   "source": [
    "## 希尔排序\n",
    "\n",
    "原理：整个待排序的记录序列分割成为若干子序列分别进行直接插入排序，它与插入排序的不同之处在于，它会优先比较距离较远的元素。"
   ]
  },
  {
   "cell_type": "code",
   "execution_count": 6,
   "metadata": {},
   "outputs": [],
   "source": [
    "def shell_sort(data):\n",
    "    \"\"\"\n",
    "    希尔排序\n",
    "    \"\"\"\n",
    "    if len(data) <= 1:\n",
    "        return data\n",
    "    gap = 1  \n",
    "    while gap < len(data) // 3:\n",
    "        gap = gap * 3 + 1\n",
    "    while gap >= 1:\n",
    "        for i in range(gap, len(data)):\n",
    "            j = i\n",
    "            while j >= gap and data[j] < data[j - gap]:\n",
    "                data[j], data[j - gap] = data[j - gap], data[j]\n",
    "                j -= gap\n",
    "        gap //= 3\n",
    "    return data"
   ]
  },
  {
   "cell_type": "markdown",
   "metadata": {},
   "source": [
    "## 堆排序\n",
    "\n",
    "原理：在堆的数据结构中，堆中的最大值总是位于根节点，把序列放入堆数据中一直维持最大堆积性质。"
   ]
  },
  {
   "cell_type": "code",
   "execution_count": 7,
   "metadata": {},
   "outputs": [],
   "source": [
    "def heap_sort(data):\n",
    "    \"\"\"\n",
    "    堆排序\n",
    "    \"\"\"\n",
    "    def sift_down(start, end):\n",
    "        \"\"\"\n",
    "        最大堆调整\n",
    "        \"\"\"\n",
    "        root = start\n",
    "        while True:\n",
    "            child = 2 * root + 1\n",
    "            if child > end:\n",
    "                break\n",
    "            if child + 1 <= end and data[child] < data[child + 1]:\n",
    "                child += 1\n",
    "            if data[root] < data[child]:\n",
    "                data[root], data[child] = data[child], data[root]\n",
    "                root = child\n",
    "            else:\n",
    "                break\n",
    "\n",
    "    # 创建最大堆\n",
    "    for start in range((len(data) - 2) // 2, -1, -1):\n",
    "        sift_down(start, len(data) - 1)\n",
    "\n",
    "    # 堆排序\n",
    "    for end in range(len(data) - 1, 0, -1):\n",
    "        data[0], data[end] = data[end], data[0]\n",
    "        sift_down(0, end - 1)\n",
    "    return data"
   ]
  },
  {
   "cell_type": "markdown",
   "metadata": {},
   "source": [
    "## 桶排序\n",
    "\n",
    "原理：桶排序是计数排序的升级版，它利用了函数的映射关系，高效与否的关键就在于这个映射函数的确定。"
   ]
  },
  {
   "cell_type": "code",
   "execution_count": 8,
   "metadata": {},
   "outputs": [],
   "source": [
    "def bucket_sort(data, bucket_size = 5):\n",
    "    \"\"\"\n",
    "    桶排序\n",
    "    默认5个桶\n",
    "    \"\"\"\n",
    "    max_num, min_num = max(data), min(data)\n",
    "    bucket_count = (max_num - min_num) // bucket_size + 1\n",
    "    buckets = []\n",
    "    for i in range(bucket_count):\n",
    "        buckets.append([])\n",
    "    for num in data:\n",
    "        buckets[(num - min_num) // bucket_size].append(num)\n",
    "    data.clear()\n",
    "    for bucket in buckets:\n",
    "        insert_sort(bucket)\n",
    "        data.extend(bucket)\n",
    "    return data"
   ]
  },
  {
   "cell_type": "markdown",
   "metadata": {},
   "source": [
    "## 计数排序\t\n",
    "\n",
    "原理：先开辟一个覆盖序列范围的数组空间，将输入的数据值转化为键存储在额外开辟的数组空间中，再依次取出。"
   ]
  },
  {
   "cell_type": "code",
   "execution_count": 9,
   "metadata": {},
   "outputs": [],
   "source": [
    "def count_sort(data):\n",
    "    \"\"\"\n",
    "    计数排序\n",
    "    需要是整数序列\n",
    "    \"\"\"\n",
    "    if len(data) <= 1:\n",
    "        return data\n",
    "    bucket = [0] * (max(data) + 1)\n",
    "    for num in data:\n",
    "        bucket[num] += 1\n",
    "    i = 0\n",
    "    for j in range(len(bucket)):\n",
    "        while bucket[j] > 0:\n",
    "            data[i] = j\n",
    "            bucket[j] -= 1\n",
    "            i += 1\n",
    "    return data"
   ]
  },
  {
   "cell_type": "markdown",
   "metadata": {},
   "source": [
    "## 基数排序\t\n",
    "\n",
    "原理：将序列所有数字统一为相同数字长度，数字较短的数前面补零。从最低位开始，依次进行一次排序，然后从低位到高位依次完成排序。"
   ]
  },
  {
   "cell_type": "code",
   "execution_count": 10,
   "metadata": {},
   "outputs": [],
   "source": [
    "def radix_sort(data):\n",
    "    \"\"\"\n",
    "    基数排序\n",
    "    \"\"\"\n",
    "    if len(data) <= 1:\n",
    "        return data\n",
    "    radix = 10\n",
    "    div = 1\n",
    "    max_bit = len(str(max(data)))\n",
    "    bucket = [[] for i in range(radix)]\n",
    "    while max_bit:\n",
    "        for num in data:\n",
    "            bucket[num // div % radix].append(num)\n",
    "        j = 0\n",
    "        for b in bucket:\n",
    "            while b:\n",
    "                data[j] = b.pop(0)\n",
    "                j += 1\n",
    "        div *= 10\n",
    "        max_bit -= 1\n",
    "    return data"
   ]
  },
  {
   "cell_type": "markdown",
   "metadata": {},
   "source": [
    "## 测试"
   ]
  },
  {
   "cell_type": "code",
   "execution_count": 11,
   "metadata": {},
   "outputs": [
    {
     "name": "stdout",
     "output_type": "stream",
     "text": [
      "input data [2, 3, 5, 7, 1, 4, 6, 15, 5, 2, 7, 9, 10, 15, 9, 17, 12]\n",
      "quick_ret [1, 2, 2, 3, 4, 5, 5, 6, 7, 7, 9, 9, 10, 12, 15, 15, 17]\n",
      "bubble_ret [1, 2, 3, 4, 5, 5, 6, 7, 7, 9, 9, 10, 12, 15, 15, 17]\n",
      "select_ret [1, 2, 3, 4, 5, 5, 6, 7, 7, 9, 9, 10, 12, 15, 15, 17]\n",
      "merge_ret [1, 2, 3, 4, 5, 5, 6, 7, 7, 9, 9, 10, 12, 15, 15, 17]\n",
      "insert_ret [1, 2, 3, 4, 5, 5, 6, 7, 7, 9, 9, 10, 12, 15, 15, 17]\n",
      "shell_ret [1, 2, 3, 4, 5, 5, 6, 7, 7, 9, 9, 10, 12, 15, 15, 17]\n",
      "heap_ret [1, 2, 3, 4, 5, 5, 6, 7, 7, 9, 9, 10, 12, 15, 15, 17]\n",
      "bucket_ret [1, 2, 3, 4, 5, 5, 6, 7, 7, 9, 9, 10, 12, 15, 15, 17]\n",
      "count_ret [1, 2, 3, 4, 5, 5, 6, 7, 7, 9, 9, 10, 12, 15, 15, 17]\n",
      "radix_ret [1, 2, 3, 4, 5, 5, 6, 7, 7, 9, 9, 10, 12, 15, 15, 17]\n"
     ]
    }
   ],
   "source": [
    "data = [2,3,5,7,1,4,6,15,5,2,7,9,10,15,9,17,12]\n",
    "print(\"input data {}\".format(data))\n",
    "quick_ret = quick_sort(data)  # 快速排序\n",
    "print(\"quick_ret {}\".format(quick_ret))\n",
    "bubble_ret = bubble_sort(data)  # 冒泡排序\n",
    "print(\"bubble_ret {}\".format(bubble_ret))\n",
    "select_ret = select_sort(data)  # 选择排序\n",
    "print(\"select_ret {}\".format(select_ret))\n",
    "merge_ret = merge_sort(data)  # 归并排序\n",
    "print(\"merge_ret {}\".format(merge_ret))\n",
    "insert_ret = insert_sort(data)  # 插入排序\n",
    "print(\"insert_ret {}\".format(insert_ret))\n",
    "shell_ret = shell_sort(data)  # 希尔排序\n",
    "print(\"shell_ret {}\".format(shell_ret))\n",
    "heap_ret = heap_sort(data)  # 堆排序\n",
    "print(\"heap_ret {}\".format(heap_ret))\n",
    "bucket_ret = bucket_sort(data)  # 桶排序\n",
    "print(\"bucket_ret {}\".format(bucket_ret))\n",
    "count_ret = count_sort(data)  # 计数排序\n",
    "print(\"count_ret {}\".format(count_ret))\n",
    "radix_ret = radix_sort(data)  # 基数排序\n",
    "print(\"radix_ret {}\".format(radix_ret))\n"
   ]
  },
  {
   "cell_type": "code",
   "execution_count": null,
   "metadata": {},
   "outputs": [],
   "source": []
  }
 ],
 "metadata": {
  "kernelspec": {
   "display_name": "Python 3",
   "language": "python",
   "name": "python3"
  },
  "language_info": {
   "codemirror_mode": {
    "name": "ipython",
    "version": 3
   },
   "file_extension": ".py",
   "mimetype": "text/x-python",
   "name": "python",
   "nbconvert_exporter": "python",
   "pygments_lexer": "ipython3",
   "version": "3.6.5"
  },
  "toc": {
   "base_numbering": 1,
   "nav_menu": {},
   "number_sections": true,
   "sideBar": true,
   "skip_h1_title": false,
   "title_cell": "Table of Contents",
   "title_sidebar": "Contents",
   "toc_cell": false,
   "toc_position": {},
   "toc_section_display": true,
   "toc_window_display": false
  }
 },
 "nbformat": 4,
 "nbformat_minor": 2
}
